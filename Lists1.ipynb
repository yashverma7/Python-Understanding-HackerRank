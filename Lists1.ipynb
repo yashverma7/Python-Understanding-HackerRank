{
  "nbformat": 4,
  "nbformat_minor": 0,
  "metadata": {
    "colab": {
      "name": "Lists",
      "provenance": []
    },
    "kernelspec": {
      "name": "python3",
      "display_name": "Python 3"
    }
  },
  "cells": [
    {
      "cell_type": "markdown",
      "metadata": {
        "id": "fYfvCmIZ2MTH"
      },
      "source": [
        "\n",
        "\n",
        "*   One of the built-in data types in Python other than Tuple, Dictionary and Set.\n",
        "*   Used to store multiple values in a single variable.\n",
        "\n",
        "* makes the code shorter by many lines since the system will allocate the list's memory first and not resize 'n' no. of elements at runtime.\n",
        "\n",
        "* are created using square brackets with elements separated with commas\n"
      ]
    },
    {
      "cell_type": "code",
      "metadata": {
        "id": "v1z6NfZkJRKB",
        "colab": {
          "base_uri": "https://localhost:8080/"
        },
        "outputId": "9f6bce2d-3755-4bf7-ff80-7de6bfe09520"
      },
      "source": [
        "mylist=[\"robot\",\"human\",\"cobo\"]\n",
        "print(mylist)"
      ],
      "execution_count": 2,
      "outputs": [
        {
          "output_type": "stream",
          "text": [
            "['robot', 'human', 'cobo']\n"
          ],
          "name": "stdout"
        }
      ]
    },
    {
      "cell_type": "markdown",
      "metadata": {
        "id": "bET0njTDq1L2"
      },
      "source": [
        "* the most important thing to not in lists is that they can be indexed, values can be changed, ordered (the new items will be added to the end of the list )and allow duplicate values.\n",
        "* len() can be used to determine the length of the list\n",
        "* Lists supports all data types\n",
        "\n"
      ]
    },
    {
      "cell_type": "code",
      "metadata": {
        "id": "giT96-ol-cqj",
        "colab": {
          "base_uri": "https://localhost:8080/"
        },
        "outputId": "e30a508e-b218-49f5-a99c-ae140c631120"
      },
      "source": [
        "print(len(mylist))"
      ],
      "execution_count": 3,
      "outputs": [
        {
          "output_type": "stream",
          "text": [
            "3\n"
          ],
          "name": "stdout"
        }
      ]
    },
    {
      "cell_type": "markdown",
      "metadata": {
        "id": "ZUHPUSq6sdhT"
      },
      "source": [
        "lists are classified as objects of data type list"
      ]
    },
    {
      "cell_type": "code",
      "metadata": {
        "id": "mcTy2v9R-ct2",
        "colab": {
          "base_uri": "https://localhost:8080/"
        },
        "outputId": "137a354a-0822-44c7-9d32-01340caf76fe"
      },
      "source": [
        "print(type(mylist))"
      ],
      "execution_count": null,
      "outputs": [
        {
          "output_type": "stream",
          "text": [
            "<class 'list'>\n"
          ],
          "name": "stdout"
        }
      ]
    },
    {
      "cell_type": "markdown",
      "metadata": {
        "id": "i0S9ETTLsxV-"
      },
      "source": [
        "* new lists can be generated using list() constructor where you can drop the items separated by commas and subsequently print the list\n"
      ]
    },
    {
      "cell_type": "code",
      "metadata": {
        "colab": {
          "base_uri": "https://localhost:8080/"
        },
        "id": "_oeIMSwQswxw",
        "outputId": "985f28f6-525e-4b03-e76b-73367ac83de6"
      },
      "source": [
        "newlist=list((\"human\",\"robot\",\"cobo\"))\n",
        "print(newlist)"
      ],
      "execution_count": 4,
      "outputs": [
        {
          "output_type": "stream",
          "text": [
            "['human', 'robot', 'cobo']\n"
          ],
          "name": "stdout"
        }
      ]
    },
    {
      "cell_type": "markdown",
      "metadata": {
        "id": "MbhTd8g7wxpt"
      },
      "source": [
        "Differences between Python Collections(Arrays)\n",
        "* Lists :\n",
        "\n",
        ">> Ordered \n",
        "\n",
        ">> Changeable\n",
        "\n",
        ">> Allows duplicate\n",
        "\n",
        "* Tuple:\n",
        "\n",
        ">> Ordered\n",
        "\n",
        ">> Unchangeable\n",
        "\n",
        ">> Allows duplicate\n",
        "\n",
        "* Set:\n",
        "\n",
        ">>Unordered\n",
        "\n",
        ">>Unindexed\n",
        "\n",
        ">>Doesn't allow duplicate\n",
        "\n",
        "* Dictionary\n",
        "\n",
        ">>Unordered\n",
        "\n",
        ">>Changeable\n",
        "\n",
        ">>Doesn't allow duplicate\n",
        "\n",
        "\n",
        "\n",
        "\n",
        "\n"
      ]
    },
    {
      "cell_type": "markdown",
      "metadata": {
        "id": "o4PMdWCeMI1C"
      },
      "source": [
        "Access items:\n",
        "through Indexes\n"
      ]
    },
    {
      "cell_type": "code",
      "metadata": {
        "colab": {
          "base_uri": "https://localhost:8080/"
        },
        "id": "WskHotMfu_tz",
        "outputId": "94f42b1c-04dd-4f4b-8927-2a9d90421837"
      },
      "source": [
        "print(mylist[0])"
      ],
      "execution_count": null,
      "outputs": [
        {
          "output_type": "stream",
          "text": [
            "robot\n"
          ],
          "name": "stdout"
        }
      ]
    },
    {
      "cell_type": "markdown",
      "metadata": {
        "id": "UJtlWAuSMm5V"
      },
      "source": [
        "Negative indexing : [-1] denotes the last item , [-2] the second last and the sequence goes on .."
      ]
    },
    {
      "cell_type": "code",
      "metadata": {
        "colab": {
          "base_uri": "https://localhost:8080/"
        },
        "id": "Xuo_QWhnM2kh",
        "outputId": "a97ede5f-9b43-4241-f152-c5b2c4e9aea0"
      },
      "source": [
        "print(mylist[-1])"
      ],
      "execution_count": null,
      "outputs": [
        {
          "output_type": "stream",
          "text": [
            "cobo\n"
          ],
          "name": "stdout"
        }
      ]
    },
    {
      "cell_type": "markdown",
      "metadata": {
        "id": "3m3qGvH-M7Ui"
      },
      "source": [
        "indexing can also be in range , for example [2:5] where the list starts with 3rd item and ends on 5th item , the 6th item, i.e. at 5th index is not included"
      ]
    },
    {
      "cell_type": "code",
      "metadata": {
        "colab": {
          "base_uri": "https://localhost:8080/"
        },
        "id": "hNxmOl_TNTqe",
        "outputId": "3ed8a240-570a-4079-f7c8-b514f5fdc8bf"
      },
      "source": [
        "print(mylist[0:2])"
      ],
      "execution_count": null,
      "outputs": [
        {
          "output_type": "stream",
          "text": [
            "['robot', 'human']\n"
          ],
          "name": "stdout"
        }
      ]
    },
    {
      "cell_type": "markdown",
      "metadata": {
        "id": "ntAWjH0R9Mr8"
      },
      "source": [
        "When we use [:2] it doesn't include the item at the index 2 or the number mentioned in your list but every item from the beginning to the index previous to the number mentioned"
      ]
    },
    {
      "cell_type": "code",
      "metadata": {
        "id": "d5xtt8VaM6kc",
        "colab": {
          "base_uri": "https://localhost:8080/"
        },
        "outputId": "816aeeba-8628-4c86-913e-d1db5b40ef8e"
      },
      "source": [
        "print(mylist[:2])"
      ],
      "execution_count": 7,
      "outputs": [
        {
          "output_type": "stream",
          "text": [
            "['robot', 'human']\n"
          ],
          "name": "stdout"
        }
      ]
    },
    {
      "cell_type": "markdown",
      "metadata": {
        "id": "o8KqTbDi-egy"
      },
      "source": [
        "When we use [1:] it takes into account the item from index 1 till the end of the list"
      ]
    },
    {
      "cell_type": "code",
      "metadata": {
        "colab": {
          "base_uri": "https://localhost:8080/"
        },
        "id": "KvKjQyRU-Y_D",
        "outputId": "d3e94dd8-9d7d-42ed-d44d-0ffe3b77d2f9"
      },
      "source": [
        "print(mylist[1:])"
      ],
      "execution_count": 8,
      "outputs": [
        {
          "output_type": "stream",
          "text": [
            "['human', 'cobo']\n"
          ],
          "name": "stdout"
        }
      ]
    },
    {
      "cell_type": "markdown",
      "metadata": {
        "id": "YwVTGXxu_C7b"
      },
      "source": [
        "similarly in this case the expression[-3:-2] returns the items from index -3 i.e. 3rd from the last and excluding the 2nd from the last which in our case leaves us with only one element which is robot"
      ]
    },
    {
      "cell_type": "code",
      "metadata": {
        "colab": {
          "base_uri": "https://localhost:8080/"
        },
        "id": "w_fAelgP-pyy",
        "outputId": "774dd0a6-ec4a-46b5-a88f-42e13bc20e7d"
      },
      "source": [
        "print(mylist[-3:-2])"
      ],
      "execution_count": 9,
      "outputs": [
        {
          "output_type": "stream",
          "text": [
            "['robot']\n"
          ],
          "name": "stdout"
        }
      ]
    },
    {
      "cell_type": "markdown",
      "metadata": {
        "id": "wQbUcRz4_u_M"
      },
      "source": [
        "Checking if the item exists in our list or not?\n"
      ]
    },
    {
      "cell_type": "code",
      "metadata": {
        "colab": {
          "base_uri": "https://localhost:8080/"
        },
        "id": "niiX6KLa_jwS",
        "outputId": "c6f51578-85b0-45d1-d51e-ca361e47e268"
      },
      "source": [
        "if \"robot\" in mylist:\n",
        "  print(\"yes robot is present\")\n"
      ],
      "execution_count": 10,
      "outputs": [
        {
          "output_type": "stream",
          "text": [
            "yes robot is present\n"
          ],
          "name": "stdout"
        }
      ]
    },
    {
      "cell_type": "code",
      "metadata": {
        "colab": {
          "base_uri": "https://localhost:8080/"
        },
        "id": "8TJzy_RQABI_",
        "outputId": "11e90aaa-c691-4690-9258-c57a4215d985"
      },
      "source": [
        "if \"robot1\" in mylist:\n",
        "  print(\"yes robot1 is present\")\n",
        "else:\n",
        "  print(\"no it is not present\")"
      ],
      "execution_count": 14,
      "outputs": [
        {
          "output_type": "stream",
          "text": [
            "no it is not present\n"
          ],
          "name": "stdout"
        }
      ]
    },
    {
      "cell_type": "markdown",
      "metadata": {
        "id": "Af7Tyd9TM6Sg"
      },
      "source": [
        "Changing the values of the items, we can directly put in the index with the updated value"
      ]
    },
    {
      "cell_type": "code",
      "metadata": {
        "colab": {
          "base_uri": "https://localhost:8080/"
        },
        "id": "YprcyltvC4L2",
        "outputId": "b8d2965b-28ec-490d-d33d-9375e5766aa0"
      },
      "source": [
        "mylist[1]=\"half human\"\n",
        "print(mylist)"
      ],
      "execution_count": 16,
      "outputs": [
        {
          "output_type": "stream",
          "text": [
            "['robot', 'half human', 'cobo']\n"
          ],
          "name": "stdout"
        }
      ]
    },
    {
      "cell_type": "markdown",
      "metadata": {
        "id": "7ynV_859I2rD"
      },
      "source": [
        "changing the items in the range of values"
      ]
    },
    {
      "cell_type": "code",
      "metadata": {
        "id": "bOwrBQGZFEtj"
      },
      "source": [
        "mylist[3:6]=[\"watermelon\",\"currant\",\"jelly\",\"jello\"]"
      ],
      "execution_count": 39,
      "outputs": []
    },
    {
      "cell_type": "markdown",
      "metadata": {
        "id": "lD1Rg_HlIlJc"
      },
      "source": [
        "naturally when there is no item at a certain index then it will return empty list"
      ]
    },
    {
      "cell_type": "code",
      "metadata": {
        "colab": {
          "base_uri": "https://localhost:8080/"
        },
        "id": "S_hFfg47H_xb",
        "outputId": "07e95e04-2d66-4636-a62e-e1c9cbb24b2d"
      },
      "source": [
        "print(mylist[8:])"
      ],
      "execution_count": 43,
      "outputs": [
        {
          "output_type": "stream",
          "text": [
            "[]\n"
          ],
          "name": "stdout"
        }
      ]
    },
    {
      "cell_type": "markdown",
      "metadata": {
        "id": "28LbHyMKJEHU"
      },
      "source": [
        "the previous examples work with the strategy of overwriting the previous records and giving the index a new value but by using the insert() method we can insert new values in the desired place and the list will move accordingly keeping the prevoius values as well."
      ]
    },
    {
      "cell_type": "code",
      "metadata": {
        "id": "ZZuH217LI0LZ"
      },
      "source": [
        "mylist.insert(2,\"manbgo\")"
      ],
      "execution_count": 44,
      "outputs": []
    },
    {
      "cell_type": "code",
      "metadata": {
        "colab": {
          "base_uri": "https://localhost:8080/"
        },
        "id": "QkHh95Q2JqXc",
        "outputId": "01c197e6-7443-49ee-9485-14932342a371"
      },
      "source": [
        "print(mylist)"
      ],
      "execution_count": 45,
      "outputs": [
        {
          "output_type": "stream",
          "text": [
            "['robot', 'half human', 'manbgo', 'cobo', 'watermelon', 'currant', 'jelly', 'jello', 'jello']\n"
          ],
          "name": "stdout"
        }
      ]
    },
    {
      "cell_type": "markdown",
      "metadata": {
        "id": "CpWTo8-bJ2is"
      },
      "source": [
        "by using the append() method we can insert a new item at the end of the list"
      ]
    },
    {
      "cell_type": "code",
      "metadata": {
        "colab": {
          "base_uri": "https://localhost:8080/"
        },
        "id": "gjYDf5-WJxNB",
        "outputId": "efcf3150-cd29-469f-88e4-ea09664fa2ae"
      },
      "source": [
        "mylist.append(\"cherry\")\n",
        "print(mylist)"
      ],
      "execution_count": 46,
      "outputs": [
        {
          "output_type": "stream",
          "text": [
            "['robot', 'half human', 'manbgo', 'cobo', 'watermelon', 'currant', 'jelly', 'jello', 'jello', 'cherry']\n"
          ],
          "name": "stdout"
        }
      ]
    },
    {
      "cell_type": "markdown",
      "metadata": {
        "id": "yDOfBAIrKMWC"
      },
      "source": [
        "by using the extend() method we can append items from another list/tuple/sets/dictionaries to our first list\n"
      ]
    },
    {
      "cell_type": "code",
      "metadata": {
        "id": "ZoavTyNOKZXD"
      },
      "source": [
        "list2=[\"banana\",\"papapya\",\"grapes\"]"
      ],
      "execution_count": 51,
      "outputs": []
    },
    {
      "cell_type": "code",
      "metadata": {
        "id": "sYFG9kjLKyj2"
      },
      "source": [
        "\n",
        "mylist.remove(\"banana\")"
      ],
      "execution_count": 56,
      "outputs": []
    },
    {
      "cell_type": "code",
      "metadata": {
        "colab": {
          "base_uri": "https://localhost:8080/"
        },
        "id": "NWRfd1lELV9k",
        "outputId": "13bc82c4-2589-4780-ac50-108c6aff81ed"
      },
      "source": [
        "print(mylist)"
      ],
      "execution_count": 57,
      "outputs": [
        {
          "output_type": "stream",
          "text": [
            "['robot', 'half human', 'manbgo', 'cobo', 'watermelon', 'currant', 'jelly', 'jello', 'jello', 'cherry', 'papapya', 'grapes', 'papapya', 'grapes', 'banana', 'papapya', 'grapes']\n"
          ],
          "name": "stdout"
        }
      ]
    },
    {
      "cell_type": "markdown",
      "metadata": {
        "id": "h-y8rsAhM6Lt"
      },
      "source": [
        ""
      ]
    }
  ]
}