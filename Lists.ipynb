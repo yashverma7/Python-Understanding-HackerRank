{
  "nbformat": 4,
  "nbformat_minor": 0,
  "metadata": {
    "colab": {
      "name": "Lists",
      "provenance": []
    },
    "kernelspec": {
      "name": "python3",
      "display_name": "Python 3"
    }
  },
  "cells": [
    {
      "cell_type": "markdown",
      "metadata": {
        "id": "fYfvCmIZ2MTH"
      },
      "source": [
        "\n",
        "\n",
        "*   One of the built-in data types in Python other than Tuple, Dictionary and Set.\n",
        "*   Used to store multiple values in a single variable.\n",
        "\n",
        "* makes the code shorter by many lines since the system will allocate the list's memory first and not resize 'n' no. of elements at runtime.\n",
        "\n",
        "* are created using square brackets with elements separated with commas\n"
      ]
    },
    {
      "cell_type": "code",
      "metadata": {
        "id": "v1z6NfZkJRKB",
        "colab": {
          "base_uri": "https://localhost:8080/"
        },
        "outputId": "ca8d294b-5eb1-426f-b731-97f1f204ba8b"
      },
      "source": [
        "mylist=[\"robot\",\"human\",\"cobo\"]\n",
        "print(mylist)"
      ],
      "execution_count": null,
      "outputs": [
        {
          "output_type": "stream",
          "text": [
            "['robot', 'human', 'cobo']\n"
          ],
          "name": "stdout"
        }
      ]
    },
    {
      "cell_type": "markdown",
      "metadata": {
        "id": "bET0njTDq1L2"
      },
      "source": [
        "* the most important thing to not in lists is that they can be indexed, values can be changed, ordered (the new items will be added to the end of the list )and allow duplicate values.\n",
        "* len() can be used to determine the length of the list\n",
        "* Lists supports all data types\n",
        "\n"
      ]
    },
    {
      "cell_type": "code",
      "metadata": {
        "id": "giT96-ol-cqj",
        "colab": {
          "base_uri": "https://localhost:8080/"
        },
        "outputId": "ff9ab3f9-7081-457e-e41e-53789c699fff"
      },
      "source": [
        "print(len(mylist))"
      ],
      "execution_count": null,
      "outputs": [
        {
          "output_type": "stream",
          "text": [
            "3\n"
          ],
          "name": "stdout"
        }
      ]
    },
    {
      "cell_type": "markdown",
      "metadata": {
        "id": "ZUHPUSq6sdhT"
      },
      "source": [
        "lists are classified as objects of data type list"
      ]
    },
    {
      "cell_type": "code",
      "metadata": {
        "id": "mcTy2v9R-ct2",
        "colab": {
          "base_uri": "https://localhost:8080/"
        },
        "outputId": "137a354a-0822-44c7-9d32-01340caf76fe"
      },
      "source": [
        "print(type(mylist))"
      ],
      "execution_count": null,
      "outputs": [
        {
          "output_type": "stream",
          "text": [
            "<class 'list'>\n"
          ],
          "name": "stdout"
        }
      ]
    },
    {
      "cell_type": "markdown",
      "metadata": {
        "id": "i0S9ETTLsxV-"
      },
      "source": [
        "* new lists can be generated using list() constructor where you can drop the items separated by commas and subsequently print the list\n"
      ]
    },
    {
      "cell_type": "code",
      "metadata": {
        "colab": {
          "base_uri": "https://localhost:8080/"
        },
        "id": "_oeIMSwQswxw",
        "outputId": "4b068c10-7730-4279-eef8-98afcebcea16"
      },
      "source": [
        "newlist=list((\"human\",\"robot\",\"cobo\"))\n",
        "print(newlist)"
      ],
      "execution_count": null,
      "outputs": [
        {
          "output_type": "stream",
          "text": [
            "['human', 'robot', 'cobo']\n"
          ],
          "name": "stdout"
        }
      ]
    },
    {
      "cell_type": "markdown",
      "metadata": {
        "id": "MbhTd8g7wxpt"
      },
      "source": [
        "Differences between Python Collections(Arrays)\n",
        "* Lists :\n",
        "\n",
        ">> Ordered \n",
        "\n",
        ">> Changeable\n",
        "\n",
        ">> Allows duplicate\n",
        "\n",
        "* Tuple:\n",
        "\n",
        ">> Ordered\n",
        "\n",
        ">> Unchangeable\n",
        "\n",
        ">> Allows duplicate\n",
        "\n",
        "* Set:\n",
        "\n",
        ">>Unordered\n",
        "\n",
        ">>Unindexed\n",
        "\n",
        ">>Doesn't allow duplicate\n",
        "\n",
        "* Dictionary\n",
        "\n",
        ">>Unordered\n",
        "\n",
        ">>Changeable\n",
        "\n",
        ">>Doesn't allow duplicate\n",
        "\n",
        "\n",
        "\n",
        "\n",
        "\n"
      ]
    },
    {
      "cell_type": "markdown",
      "metadata": {
        "id": "o4PMdWCeMI1C"
      },
      "source": [
        "Access items:\n",
        "through Indexes\n"
      ]
    },
    {
      "cell_type": "code",
      "metadata": {
        "colab": {
          "base_uri": "https://localhost:8080/"
        },
        "id": "WskHotMfu_tz",
        "outputId": "94f42b1c-04dd-4f4b-8927-2a9d90421837"
      },
      "source": [
        "print(mylist[0])"
      ],
      "execution_count": null,
      "outputs": [
        {
          "output_type": "stream",
          "text": [
            "robot\n"
          ],
          "name": "stdout"
        }
      ]
    },
    {
      "cell_type": "markdown",
      "metadata": {
        "id": "UJtlWAuSMm5V"
      },
      "source": [
        "Negative indexing : [-1] denotes the last item , [-2] the second last and the sequence goes on .."
      ]
    },
    {
      "cell_type": "code",
      "metadata": {
        "colab": {
          "base_uri": "https://localhost:8080/"
        },
        "id": "Xuo_QWhnM2kh",
        "outputId": "a97ede5f-9b43-4241-f152-c5b2c4e9aea0"
      },
      "source": [
        "print(mylist[-1])"
      ],
      "execution_count": null,
      "outputs": [
        {
          "output_type": "stream",
          "text": [
            "cobo\n"
          ],
          "name": "stdout"
        }
      ]
    },
    {
      "cell_type": "markdown",
      "metadata": {
        "id": "3m3qGvH-M7Ui"
      },
      "source": [
        "indexing can also be in range , for example [2:5] where the list starts with 3rd item and ends on 5th item , the 6th item, i.e. at 5th index is not included"
      ]
    },
    {
      "cell_type": "code",
      "metadata": {
        "colab": {
          "base_uri": "https://localhost:8080/"
        },
        "id": "hNxmOl_TNTqe",
        "outputId": "3ed8a240-570a-4079-f7c8-b514f5fdc8bf"
      },
      "source": [
        "print(mylist[0:2])"
      ],
      "execution_count": null,
      "outputs": [
        {
          "output_type": "stream",
          "text": [
            "['robot', 'human']\n"
          ],
          "name": "stdout"
        }
      ]
    },
    {
      "cell_type": "code",
      "metadata": {
        "id": "d5xtt8VaM6kc"
      },
      "source": [
        ""
      ],
      "execution_count": null,
      "outputs": []
    },
    {
      "cell_type": "markdown",
      "metadata": {
        "id": "Af7Tyd9TM6Sg"
      },
      "source": [
        ""
      ]
    },
    {
      "cell_type": "markdown",
      "metadata": {
        "id": "h-y8rsAhM6Lt"
      },
      "source": [
        ""
      ]
    }
  ]
}